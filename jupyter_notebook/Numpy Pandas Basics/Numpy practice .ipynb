{
 "cells": [
  {
   "cell_type": "code",
   "execution_count": 1,
   "id": "273222a6",
   "metadata": {},
   "outputs": [],
   "source": [
    "#first import numpy library\n",
    "import numpy as np"
   ]
  },
  {
   "cell_type": "markdown",
   "id": "f1b2ce78",
   "metadata": {},
   "source": [
    "### - Creating an array with numpy"
   ]
  },
  {
   "cell_type": "code",
   "execution_count": 10,
   "id": "1c185969",
   "metadata": {},
   "outputs": [
    {
     "data": {
      "text/plain": [
       "array(['Samosa', 'Pakora', 'Salad'], dtype='<U6')"
      ]
     },
     "execution_count": 10,
     "metadata": {},
     "output_type": "execute_result"
    }
   ],
   "source": [
    "# 1-D Array\n",
    "food_1 = np.array([\"Samosa\", \"Pakora\", \"Salad\"])\n",
    "food_1"
   ]
  },
  {
   "cell_type": "code",
   "execution_count": 8,
   "id": "10bddd23",
   "metadata": {},
   "outputs": [
    {
     "data": {
      "text/plain": [
       "array([ 5,  2, 10])"
      ]
     },
     "execution_count": 8,
     "metadata": {},
     "output_type": "execute_result"
    }
   ],
   "source": [
    "price_1 = np.array([5, 2, 10])\n",
    "price_1"
   ]
  },
  {
   "cell_type": "code",
   "execution_count": 9,
   "id": "9190cb82",
   "metadata": {},
   "outputs": [
    {
     "data": {
      "text/plain": [
       "5.666666666666667"
      ]
     },
     "execution_count": 9,
     "metadata": {},
     "output_type": "execute_result"
    }
   ],
   "source": [
    "price_1.mean()"
   ]
  },
  {
   "cell_type": "markdown",
   "id": "be402027",
   "metadata": {},
   "source": [
    "### - Array functions "
   ]
  },
  {
   "cell_type": "code",
   "execution_count": 12,
   "id": "1201e1b2",
   "metadata": {},
   "outputs": [
    {
     "data": {
      "text/plain": [
       "array([ 14. ,  12. ,  74. ,   0.3,  12.9,  13. , 100. ,  73. ,   1.9,\n",
       "        45. ])"
      ]
     },
     "execution_count": 12,
     "metadata": {},
     "output_type": "execute_result"
    }
   ],
   "source": [
    "arr_1 = np.array([14, 12, 74, 0.3, 12.9, 13, 100, 73, 1.9, 45])\n",
    "arr_1"
   ]
  },
  {
   "cell_type": "code",
   "execution_count": 17,
   "id": "515840ad",
   "metadata": {},
   "outputs": [
    {
     "data": {
      "text/plain": [
       "array([  0.3,   1.9,  12. ,  12.9,  13. ,  14. ,  45. ,  73. ,  74. ,\n",
       "       100. ])"
      ]
     },
     "execution_count": 17,
     "metadata": {},
     "output_type": "execute_result"
    }
   ],
   "source": [
    "arr_1.sort()\n",
    "arr_1"
   ]
  },
  {
   "cell_type": "code",
   "execution_count": 18,
   "id": "14dd3a25",
   "metadata": {},
   "outputs": [
    {
     "data": {
      "text/plain": [
       "array([12. , 12.5, 45. , 23. , 10. , 10.3,  2.4])"
      ]
     },
     "execution_count": 18,
     "metadata": {},
     "output_type": "execute_result"
    }
   ],
   "source": [
    "arr_2 = np.array([12, 12.5, 45, 23, 10, 10.3, 2.4])\n",
    "arr_2"
   ]
  },
  {
   "cell_type": "code",
   "execution_count": 24,
   "id": "81ca5440",
   "metadata": {},
   "outputs": [
    {
     "data": {
      "text/plain": [
       "array([  0.3,   1.9,  12. ,  12.9,  13. ,  14. ,  45. ,  73. ,  74. ,\n",
       "       100. ,  12. ,  12.5,  45. ,  23. ,  10. ,  10.3,   2.4])"
      ]
     },
     "execution_count": 24,
     "metadata": {},
     "output_type": "execute_result"
    }
   ],
   "source": [
    "concat_1 = np.concatenate((arr_1 , arr_2))\n",
    "concat_1"
   ]
  },
  {
   "cell_type": "code",
   "execution_count": 25,
   "id": "3da8e2d1",
   "metadata": {},
   "outputs": [
    {
     "data": {
      "text/plain": [
       "array([  0.3,   1.9,   2.4,  10. ,  10.3,  12. ,  12. ,  12.5,  12.9,\n",
       "        13. ,  14. ,  23. ,  45. ,  45. ,  73. ,  74. , 100. ])"
      ]
     },
     "execution_count": 25,
     "metadata": {},
     "output_type": "execute_result"
    }
   ],
   "source": [
    "concat_1.sort()\n",
    "concat_1"
   ]
  },
  {
   "cell_type": "code",
   "execution_count": 27,
   "id": "4094766c",
   "metadata": {},
   "outputs": [
    {
     "data": {
      "text/plain": [
       "array([[1, 2, 3],\n",
       "       [4, 5, 6]])"
      ]
     },
     "execution_count": 27,
     "metadata": {},
     "output_type": "execute_result"
    }
   ],
   "source": [
    "arr_2D_1 = np.array([[1, 2, 3], [4, 5, 6]])\n",
    "arr_2D_1"
   ]
  },
  {
   "cell_type": "code",
   "execution_count": 29,
   "id": "62279f38",
   "metadata": {},
   "outputs": [
    {
     "data": {
      "text/plain": [
       "array([[10, 11, 12],\n",
       "       [13, 14, 15]])"
      ]
     },
     "execution_count": 29,
     "metadata": {},
     "output_type": "execute_result"
    }
   ],
   "source": [
    "arr_2D_2 = np.array([[10, 11, 12], [13, 14, 15]])\n",
    "arr_2D_2"
   ]
  },
  {
   "cell_type": "code",
   "execution_count": 37,
   "id": "33c9d776",
   "metadata": {},
   "outputs": [
    {
     "data": {
      "text/plain": [
       "array([[ 1,  2,  3],\n",
       "       [ 4,  5,  6],\n",
       "       [10, 11, 12],\n",
       "       [13, 14, 15]])"
      ]
     },
     "execution_count": 37,
     "metadata": {},
     "output_type": "execute_result"
    }
   ],
   "source": [
    "np.concatenate((arr_2D_1, arr_2D_2),  axis= 0)"
   ]
  },
  {
   "cell_type": "code",
   "execution_count": 38,
   "id": "34548f49",
   "metadata": {},
   "outputs": [
    {
     "data": {
      "text/plain": [
       "array([[ 1,  2,  3, 10, 11, 12],\n",
       "       [ 4,  5,  6, 13, 14, 15]])"
      ]
     },
     "execution_count": 38,
     "metadata": {},
     "output_type": "execute_result"
    }
   ],
   "source": [
    "np.concatenate((arr_2D_1, arr_2D_2),  axis= 1)"
   ]
  },
  {
   "cell_type": "code",
   "execution_count": 39,
   "id": "2892f336",
   "metadata": {},
   "outputs": [
    {
     "data": {
      "text/plain": [
       "array([[[ 0,  1,  2,  3],\n",
       "        [ 4,  5,  6,  7]],\n",
       "\n",
       "       [[ 8,  9, 10, 11],\n",
       "        [12, 13, 14, 15]],\n",
       "\n",
       "       [[16, 17, 18, 19],\n",
       "        [20, 21, 22, 23]]])"
      ]
     },
     "execution_count": 39,
     "metadata": {},
     "output_type": "execute_result"
    }
   ],
   "source": [
    "arr_3D_1 = np.array([[[0, 1, 2, 3],\n",
    "                    [4, 5, 6, 7]],\n",
    "                     \n",
    "                    [[8, 9, 10, 11],\n",
    "                    [12, 13, 14, 15]],\n",
    "                     \n",
    "                    [[16, 17, 18, 19],\n",
    "                    [20, 21, 22, 23]]])\n",
    "arr_3D_1"
   ]
  },
  {
   "cell_type": "code",
   "execution_count": 40,
   "id": "45278f2a",
   "metadata": {},
   "outputs": [
    {
     "data": {
      "text/plain": [
       "3"
      ]
     },
     "execution_count": 40,
     "metadata": {},
     "output_type": "execute_result"
    }
   ],
   "source": [
    "#to find the dimensions of array\n",
    "arr_3D_1.ndim"
   ]
  },
  {
   "cell_type": "code",
   "execution_count": 41,
   "id": "0baa5a28",
   "metadata": {},
   "outputs": [
    {
     "data": {
      "text/plain": [
       "24"
      ]
     },
     "execution_count": 41,
     "metadata": {},
     "output_type": "execute_result"
    }
   ],
   "source": [
    "#to find the size of array\n",
    "arr_3D_1.size"
   ]
  },
  {
   "cell_type": "code",
   "execution_count": 43,
   "id": "4f94c36a",
   "metadata": {},
   "outputs": [
    {
     "data": {
      "text/plain": [
       "(3, 2, 4)"
      ]
     },
     "execution_count": 43,
     "metadata": {},
     "output_type": "execute_result"
    }
   ],
   "source": [
    "#to find the shape of array\n",
    "arr_3D_1.shape"
   ]
  },
  {
   "cell_type": "code",
   "execution_count": 49,
   "id": "ec63f732",
   "metadata": {},
   "outputs": [
    {
     "data": {
      "text/plain": [
       "array([ 0,  1,  2,  3,  4,  5,  6,  7,  8,  9, 10, 11, 12, 13, 14, 15, 16,\n",
       "       17, 18, 19, 20, 21, 22, 23])"
      ]
     },
     "execution_count": 49,
     "metadata": {},
     "output_type": "execute_result"
    }
   ],
   "source": [
    "arr_3D_2 = np.arange(24)\n",
    "arr_3D_2"
   ]
  },
  {
   "cell_type": "code",
   "execution_count": 50,
   "id": "476adaeb",
   "metadata": {},
   "outputs": [
    {
     "data": {
      "text/plain": [
       "array([[[ 0,  1,  2,  3],\n",
       "        [ 4,  5,  6,  7]],\n",
       "\n",
       "       [[ 8,  9, 10, 11],\n",
       "        [12, 13, 14, 15]],\n",
       "\n",
       "       [[16, 17, 18, 19],\n",
       "        [20, 21, 22, 23]]])"
      ]
     },
     "execution_count": 50,
     "metadata": {},
     "output_type": "execute_result"
    }
   ],
   "source": [
    "arr_3D_2.reshape(3,2,4)"
   ]
  }
 ],
 "metadata": {
  "kernelspec": {
   "display_name": "Python 3.10.5 64-bit",
   "language": "python",
   "name": "python3"
  },
  "language_info": {
   "codemirror_mode": {
    "name": "ipython",
    "version": 3
   },
   "file_extension": ".py",
   "mimetype": "text/x-python",
   "name": "python",
   "nbconvert_exporter": "python",
   "pygments_lexer": "ipython3",
   "version": "3.10.5"
  },
  "vscode": {
   "interpreter": {
    "hash": "5a7bb41fa1b4e552359b5eae2b50a7673f62f8a8c29b81b7105b3ed892ed6f90"
   }
  }
 },
 "nbformat": 4,
 "nbformat_minor": 5
}

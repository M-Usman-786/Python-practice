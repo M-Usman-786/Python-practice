{
 "cells": [
  {
   "cell_type": "markdown",
   "id": "454afb5d",
   "metadata": {},
   "source": [
    "### -Indexing"
   ]
  },
  {
   "cell_type": "code",
   "execution_count": 1,
   "id": "450b6834",
   "metadata": {},
   "outputs": [
    {
     "data": {
      "text/plain": [
       "'Samaosa Pakora'"
      ]
     },
     "execution_count": 1,
     "metadata": {},
     "output_type": "execute_result"
    }
   ],
   "source": [
    "#make a string\n",
    "a = \"Samaosa Pakora\"\n",
    "a"
   ]
  },
  {
   "cell_type": "code",
   "execution_count": 2,
   "id": "5ba5bb51",
   "metadata": {},
   "outputs": [
    {
     "data": {
      "text/plain": [
       "14"
      ]
     },
     "execution_count": 2,
     "metadata": {},
     "output_type": "execute_result"
    }
   ],
   "source": [
    "#length of indexces\n",
    "\n",
    "len(a)"
   ]
  },
  {
   "cell_type": "code",
   "execution_count": 3,
   "id": "b22d5baf",
   "metadata": {},
   "outputs": [
    {
     "data": {
      "text/plain": [
       "'S'"
      ]
     },
     "execution_count": 3,
     "metadata": {},
     "output_type": "execute_result"
    }
   ],
   "source": [
    "a[0]"
   ]
  },
  {
   "cell_type": "code",
   "execution_count": 4,
   "id": "12af70fc",
   "metadata": {},
   "outputs": [
    {
     "data": {
      "text/plain": [
       "'a'"
      ]
     },
     "execution_count": 4,
     "metadata": {},
     "output_type": "execute_result"
    }
   ],
   "source": [
    "a[1]"
   ]
  },
  {
   "cell_type": "code",
   "execution_count": 5,
   "id": "ec7e0595",
   "metadata": {
    "scrolled": true
   },
   "outputs": [
    {
     "data": {
      "text/plain": [
       "'a'"
      ]
     },
     "execution_count": 5,
     "metadata": {},
     "output_type": "execute_result"
    }
   ],
   "source": [
    "a[13]"
   ]
  },
  {
   "cell_type": "code",
   "execution_count": 6,
   "id": "01400b8b",
   "metadata": {},
   "outputs": [
    {
     "data": {
      "text/plain": [
       "'a '"
      ]
     },
     "execution_count": 6,
     "metadata": {},
     "output_type": "execute_result"
    }
   ],
   "source": [
    "a[6:8]"
   ]
  },
  {
   "cell_type": "code",
   "execution_count": 7,
   "id": "8b64ddfa",
   "metadata": {},
   "outputs": [
    {
     "data": {
      "text/plain": [
       "'o'"
      ]
     },
     "execution_count": 7,
     "metadata": {},
     "output_type": "execute_result"
    }
   ],
   "source": [
    "a[-3]"
   ]
  },
  {
   "cell_type": "code",
   "execution_count": 8,
   "id": "5fd0a48f",
   "metadata": {},
   "outputs": [
    {
     "data": {
      "text/plain": [
       "'a Pak'"
      ]
     },
     "execution_count": 8,
     "metadata": {},
     "output_type": "execute_result"
    }
   ],
   "source": [
    "a[-8:-3]"
   ]
  },
  {
   "cell_type": "code",
   "execution_count": 9,
   "id": "aea73f4c",
   "metadata": {},
   "outputs": [
    {
     "data": {
      "text/plain": [
       "'biryani'"
      ]
     },
     "execution_count": 9,
     "metadata": {},
     "output_type": "execute_result"
    }
   ],
   "source": [
    "food = \"biryani\"\n",
    "food"
   ]
  },
  {
   "cell_type": "markdown",
   "id": "20459844",
   "metadata": {},
   "source": [
    "### - String Method"
   ]
  },
  {
   "cell_type": "code",
   "execution_count": 10,
   "id": "0af6bffd",
   "metadata": {},
   "outputs": [
    {
     "data": {
      "text/plain": [
       "7"
      ]
     },
     "execution_count": 10,
     "metadata": {},
     "output_type": "execute_result"
    }
   ],
   "source": [
    "len(food)"
   ]
  },
  {
   "cell_type": "code",
   "execution_count": 11,
   "id": "a6234375",
   "metadata": {},
   "outputs": [
    {
     "data": {
      "text/plain": [
       "'Biryani'"
      ]
     },
     "execution_count": 11,
     "metadata": {},
     "output_type": "execute_result"
    }
   ],
   "source": [
    "food.capitalize()"
   ]
  },
  {
   "cell_type": "code",
   "execution_count": 12,
   "id": "7317cade",
   "metadata": {},
   "outputs": [
    {
     "data": {
      "text/plain": [
       "'BIRYANI'"
      ]
     },
     "execution_count": 12,
     "metadata": {},
     "output_type": "execute_result"
    }
   ],
   "source": [
    "food.upper()"
   ]
  },
  {
   "cell_type": "code",
   "execution_count": 13,
   "id": "27a4cbed",
   "metadata": {},
   "outputs": [
    {
     "data": {
      "text/plain": [
       "'biryani'"
      ]
     },
     "execution_count": 13,
     "metadata": {},
     "output_type": "execute_result"
    }
   ],
   "source": [
    "food.lower()"
   ]
  },
  {
   "cell_type": "code",
   "execution_count": 14,
   "id": "a53952be",
   "metadata": {},
   "outputs": [
    {
     "data": {
      "text/plain": [
       "'Shiryani'"
      ]
     },
     "execution_count": 14,
     "metadata": {},
     "output_type": "execute_result"
    }
   ],
   "source": [
    "food.replace('b', \"Sh\")"
   ]
  },
  {
   "cell_type": "code",
   "execution_count": 15,
   "id": "8722e51a",
   "metadata": {},
   "outputs": [
    {
     "data": {
      "text/plain": [
       "'Muhammad Usman with Bba Ammar Tufail'"
      ]
     },
     "execution_count": 15,
     "metadata": {},
     "output_type": "execute_result"
    }
   ],
   "source": [
    "#counting a specifc alphabat with python\n",
    "name = \"Muhammad Usman with Bba Ammar Tufail\"\n",
    "name"
   ]
  },
  {
   "cell_type": "code",
   "execution_count": 16,
   "id": "72909e6f",
   "metadata": {},
   "outputs": [
    {
     "data": {
      "text/plain": [
       "6"
      ]
     },
     "execution_count": 16,
     "metadata": {},
     "output_type": "execute_result"
    }
   ],
   "source": [
    "name.count(\"a\")"
   ]
  },
  {
   "cell_type": "markdown",
   "id": "3d84a5bd",
   "metadata": {},
   "source": [
    "### - Finding an index number in string"
   ]
  },
  {
   "cell_type": "code",
   "execution_count": 17,
   "id": "6d43d5be",
   "metadata": {},
   "outputs": [
    {
     "data": {
      "text/plain": [
       "30"
      ]
     },
     "execution_count": 17,
     "metadata": {},
     "output_type": "execute_result"
    }
   ],
   "source": [
    "name.find(\"T\")"
   ]
  },
  {
   "cell_type": "code",
   "execution_count": 18,
   "id": "9563eb74",
   "metadata": {},
   "outputs": [
    {
     "data": {
      "text/plain": [
       "['I love samosa, pakora, raita, biryani and karahi']"
      ]
     },
     "execution_count": 18,
     "metadata": {},
     "output_type": "execute_result"
    }
   ],
   "source": [
    "#How to split a string\n",
    "food = [\"I love samosa, pakora, raita, biryani and karahi\"]\n",
    "food"
   ]
  },
  {
   "cell_type": "markdown",
   "id": "bf13fa24",
   "metadata": {},
   "source": [
    "### -Basic data structures in python\n",
    "1 -Tuples\n",
    "2 -List\n",
    "3 -Dictionaries\n",
    "4 -Set"
   ]
  },
  {
   "cell_type": "markdown",
   "id": "c3a96de6",
   "metadata": {},
   "source": [
    "### -Tuple\n",
    "- ordered collection of element\n",
    "- enclosed in round() braces paranthesis\n",
    "- Diffrent type of element can be stored\n",
    "- once the element stored you cannot change them"
   ]
  },
  {
   "cell_type": "code",
   "execution_count": 19,
   "id": "5e0e23a1",
   "metadata": {},
   "outputs": [
    {
     "data": {
      "text/plain": [
       "(1, 'Python', True, 2.5)"
      ]
     },
     "execution_count": 19,
     "metadata": {},
     "output_type": "execute_result"
    }
   ],
   "source": [
    "tup_1 = (1, \"Python\", True, 2.5)\n",
    "tup_1"
   ]
  },
  {
   "cell_type": "code",
   "execution_count": 20,
   "id": "19cce36e",
   "metadata": {},
   "outputs": [
    {
     "data": {
      "text/plain": [
       "tuple"
      ]
     },
     "execution_count": 20,
     "metadata": {},
     "output_type": "execute_result"
    }
   ],
   "source": [
    "#Type of tuple\n",
    "type(tup_1)\n"
   ]
  },
  {
   "cell_type": "markdown",
   "id": "0066774c",
   "metadata": {},
   "source": [
    "### -Indexing in tuples"
   ]
  },
  {
   "cell_type": "code",
   "execution_count": 21,
   "id": "9d71a05b",
   "metadata": {},
   "outputs": [
    {
     "data": {
      "text/plain": [
       "'Python'"
      ]
     },
     "execution_count": 21,
     "metadata": {},
     "output_type": "execute_result"
    }
   ],
   "source": [
    "tup_1[1]"
   ]
  },
  {
   "cell_type": "code",
   "execution_count": 22,
   "id": "d3204ddd",
   "metadata": {},
   "outputs": [
    {
     "data": {
      "text/plain": [
       "(1, 'Python', True)"
      ]
     },
     "execution_count": 22,
     "metadata": {},
     "output_type": "execute_result"
    }
   ],
   "source": [
    "tup_1[0:3]"
   ]
  },
  {
   "cell_type": "code",
   "execution_count": 23,
   "id": "077eeff8",
   "metadata": {},
   "outputs": [
    {
     "data": {
      "text/plain": [
       "('Python', True)"
      ]
     },
     "execution_count": 23,
     "metadata": {},
     "output_type": "execute_result"
    }
   ],
   "source": [
    "tup_1[-3:-1]"
   ]
  },
  {
   "cell_type": "code",
   "execution_count": 24,
   "id": "f45fff75",
   "metadata": {},
   "outputs": [
    {
     "data": {
      "text/plain": [
       "4"
      ]
     },
     "execution_count": 24,
     "metadata": {},
     "output_type": "execute_result"
    }
   ],
   "source": [
    "#counting of element\n",
    "len(tup_1)"
   ]
  },
  {
   "cell_type": "code",
   "execution_count": 25,
   "id": "07ee6553",
   "metadata": {},
   "outputs": [
    {
     "data": {
      "text/plain": [
       "(2, 'MuhammadUsman', 3.5, False)"
      ]
     },
     "execution_count": 25,
     "metadata": {},
     "output_type": "execute_result"
    }
   ],
   "source": [
    "tup_2 = (2, \"MuhammadUsman\", 3.5, False)\n",
    "tup_2"
   ]
  },
  {
   "cell_type": "code",
   "execution_count": 26,
   "id": "d7b5b127",
   "metadata": {},
   "outputs": [
    {
     "data": {
      "text/plain": [
       "(1, 'Python', True, 2.5, 2, 'MuhammadUsman', 3.5, False)"
      ]
     },
     "execution_count": 26,
     "metadata": {},
     "output_type": "execute_result"
    }
   ],
   "source": [
    "tup_1 + tup_2"
   ]
  },
  {
   "cell_type": "markdown",
   "id": "14da3638",
   "metadata": {},
   "source": [
    "tup_1*2 + tup_2"
   ]
  },
  {
   "cell_type": "code",
   "execution_count": 27,
   "id": "94e4329a",
   "metadata": {},
   "outputs": [
    {
     "data": {
      "text/plain": [
       "(20, 25, 30, 56, 86, 78, 100)"
      ]
     },
     "execution_count": 27,
     "metadata": {},
     "output_type": "execute_result"
    }
   ],
   "source": [
    "tup_3 = (20, 25, 30, 56, 86, 78, 100)\n",
    "tup_3"
   ]
  },
  {
   "cell_type": "code",
   "execution_count": 28,
   "id": "abf2f486",
   "metadata": {},
   "outputs": [
    {
     "data": {
      "text/plain": [
       "20"
      ]
     },
     "execution_count": 28,
     "metadata": {},
     "output_type": "execute_result"
    }
   ],
   "source": [
    "#minimum value of tuple\n",
    "min(tup_3)"
   ]
  },
  {
   "cell_type": "code",
   "execution_count": 29,
   "id": "76252b62",
   "metadata": {},
   "outputs": [
    {
     "data": {
      "text/plain": [
       "100"
      ]
     },
     "execution_count": 29,
     "metadata": {},
     "output_type": "execute_result"
    }
   ],
   "source": [
    "#maximum value of tuple\n",
    "max(tup_3)"
   ]
  },
  {
   "cell_type": "code",
   "execution_count": 30,
   "id": "118c80d7",
   "metadata": {},
   "outputs": [
    {
     "data": {
      "text/plain": [
       "(20, 25, 30, 56, 86, 78, 100, 20, 25, 30, 56, 86, 78, 100)"
      ]
     },
     "execution_count": 30,
     "metadata": {},
     "output_type": "execute_result"
    }
   ],
   "source": [
    "tup_3*2"
   ]
  },
  {
   "cell_type": "markdown",
   "id": "af869829",
   "metadata": {},
   "source": [
    "### -List"
   ]
  },
  {
   "cell_type": "markdown",
   "id": "5b261a6d",
   "metadata": {},
   "source": [
    "- ordered collection of element \n",
    "- enclosed in squar[] braces paranthesis \n",
    "- once the element stored you can change them muteable"
   ]
  },
  {
   "cell_type": "code",
   "execution_count": 31,
   "id": "08220fb3",
   "metadata": {},
   "outputs": [
    {
     "data": {
      "text/plain": [
       "[2, 'MuhammadUsman', False]"
      ]
     },
     "execution_count": 31,
     "metadata": {},
     "output_type": "execute_result"
    }
   ],
   "source": [
    "List_1 = [2, \"MuhammadUsman\", False]\n",
    "List_1"
   ]
  },
  {
   "cell_type": "code",
   "execution_count": 32,
   "id": "08117c78",
   "metadata": {},
   "outputs": [
    {
     "data": {
      "text/plain": [
       "list"
      ]
     },
     "execution_count": 32,
     "metadata": {},
     "output_type": "execute_result"
    }
   ],
   "source": [
    "#Type of list\n",
    "type(List_1)\n"
   ]
  },
  {
   "cell_type": "code",
   "execution_count": 33,
   "id": "faa0d84e",
   "metadata": {},
   "outputs": [
    {
     "data": {
      "text/plain": [
       "3"
      ]
     },
     "execution_count": 33,
     "metadata": {},
     "output_type": "execute_result"
    }
   ],
   "source": [
    "#Length of list\n",
    "len(List_1)"
   ]
  },
  {
   "cell_type": "code",
   "execution_count": 34,
   "id": "28984ce8",
   "metadata": {},
   "outputs": [
    {
     "data": {
      "text/plain": [
       "False"
      ]
     },
     "execution_count": 34,
     "metadata": {},
     "output_type": "execute_result"
    }
   ],
   "source": [
    "List_1[2]"
   ]
  },
  {
   "cell_type": "code",
   "execution_count": 35,
   "id": "ef9784cd",
   "metadata": {},
   "outputs": [
    {
     "data": {
      "text/plain": [
       "[2, 4, 'Usman', 'Khalid', 3.6, False]"
      ]
     },
     "execution_count": 35,
     "metadata": {},
     "output_type": "execute_result"
    }
   ],
   "source": [
    "List_2 = [2, 4, \"Usman\", \"Khalid\", 3.6, False]\n",
    "List_2"
   ]
  },
  {
   "cell_type": "code",
   "execution_count": 36,
   "id": "1aa558f0",
   "metadata": {},
   "outputs": [
    {
     "data": {
      "text/plain": [
       "[2, 'MuhammadUsman', False, 2, 4, 'Usman', 'Khalid', 3.6, False]"
      ]
     },
     "execution_count": 36,
     "metadata": {},
     "output_type": "execute_result"
    }
   ],
   "source": [
    "List_1 + List_2\n"
   ]
  },
  {
   "cell_type": "code",
   "execution_count": 37,
   "id": "1896082c",
   "metadata": {},
   "outputs": [
    {
     "data": {
      "text/plain": [
       "[2,\n",
       " 4,\n",
       " 'Usman',\n",
       " 'Khalid',\n",
       " 3.6,\n",
       " False,\n",
       " 2,\n",
       " 4,\n",
       " 'Usman',\n",
       " 'Khalid',\n",
       " 3.6,\n",
       " False,\n",
       " 2,\n",
       " 4,\n",
       " 'Usman',\n",
       " 'Khalid',\n",
       " 3.6,\n",
       " False]"
      ]
     },
     "execution_count": 37,
     "metadata": {},
     "output_type": "execute_result"
    }
   ],
   "source": [
    "List_2*3"
   ]
  },
  {
   "cell_type": "code",
   "execution_count": 38,
   "id": "44a5be86",
   "metadata": {},
   "outputs": [],
   "source": [
    "List_1.reverse()"
   ]
  },
  {
   "cell_type": "code",
   "execution_count": 39,
   "id": "6636f18e",
   "metadata": {},
   "outputs": [
    {
     "data": {
      "text/plain": [
       "[False, 'MuhammadUsman', 2]"
      ]
     },
     "execution_count": 39,
     "metadata": {},
     "output_type": "execute_result"
    }
   ],
   "source": [
    "List_1"
   ]
  },
  {
   "cell_type": "code",
   "execution_count": 40,
   "id": "61b985f7",
   "metadata": {},
   "outputs": [],
   "source": [
    "List_1.append(\"Wellcome\")"
   ]
  },
  {
   "cell_type": "code",
   "execution_count": 41,
   "id": "793b380c",
   "metadata": {},
   "outputs": [
    {
     "data": {
      "text/plain": [
       "[False, 'MuhammadUsman', 2, 'Wellcome']"
      ]
     },
     "execution_count": 41,
     "metadata": {},
     "output_type": "execute_result"
    }
   ],
   "source": [
    "List_1"
   ]
  },
  {
   "cell_type": "code",
   "execution_count": 43,
   "id": "c2fb621b",
   "metadata": {},
   "outputs": [
    {
     "data": {
      "text/plain": [
       "1"
      ]
     },
     "execution_count": 43,
     "metadata": {},
     "output_type": "execute_result"
    }
   ],
   "source": [
    "#Count the element you enter \n",
    "List_1.count(False)"
   ]
  },
  {
   "cell_type": "code",
   "execution_count": 44,
   "id": "464d0131",
   "metadata": {},
   "outputs": [
    {
     "data": {
      "text/plain": [
       "[12, 34, 56, 78, 36, 32, 57, 112, 93, 45, 23, 13, 100, 998]"
      ]
     },
     "execution_count": 44,
     "metadata": {},
     "output_type": "execute_result"
    }
   ],
   "source": [
    "List_3 = [12, 34, 56, 78, 36, 32, 57, 112, 93, 45, 23, 13, 100, 998]\n",
    "List_3"
   ]
  },
  {
   "cell_type": "code",
   "execution_count": 45,
   "id": "06e48e07",
   "metadata": {},
   "outputs": [
    {
     "data": {
      "text/plain": [
       "[12, 13, 23, 32, 34, 36, 45, 56, 57, 78, 93, 100, 112, 998]"
      ]
     },
     "execution_count": 45,
     "metadata": {},
     "output_type": "execute_result"
    }
   ],
   "source": [
    "List_3.sort()\n",
    "List_3"
   ]
  },
  {
   "cell_type": "markdown",
   "id": "4652bcaf",
   "metadata": {},
   "source": [
    "### -Dictionaries \n",
    "- An unordered collection of data\n",
    "- Key and value\n",
    "- curly braces{}\n",
    "- Mutatable, changable"
   ]
  },
  {
   "cell_type": "code",
   "execution_count": 46,
   "id": "a2149702",
   "metadata": {},
   "outputs": [
    {
     "data": {
      "text/plain": [
       "{'samosa': 30, 'Pakora': 100, 'Raita': 20, 'Salad': 50, 'Chiken Roll': 40}"
      ]
     },
     "execution_count": 46,
     "metadata": {},
     "output_type": "execute_result"
    }
   ],
   "source": [
    "#Food and their prices\n",
    "Dic_1 = {\"samosa\": 30, \"Pakora\": 100, \"Raita\": 20, \"Salad\": 50, \"Chiken Roll\": 40}\n",
    "Dic_1"
   ]
  },
  {
   "cell_type": "code",
   "execution_count": 47,
   "id": "df58fc03",
   "metadata": {},
   "outputs": [
    {
     "data": {
      "text/plain": [
       "dict"
      ]
     },
     "execution_count": 47,
     "metadata": {},
     "output_type": "execute_result"
    }
   ],
   "source": [
    "type(Dic_1)"
   ]
  },
  {
   "cell_type": "code",
   "execution_count": 48,
   "id": "6b3141fc",
   "metadata": {},
   "outputs": [
    {
     "data": {
      "text/plain": [
       "dict_keys(['samosa', 'Pakora', 'Raita', 'Salad', 'Chiken Roll'])"
      ]
     },
     "execution_count": 48,
     "metadata": {},
     "output_type": "execute_result"
    }
   ],
   "source": [
    "Keys_1 = Dic_1.keys()\n",
    "Keys_1"
   ]
  },
  {
   "cell_type": "code",
   "execution_count": 49,
   "id": "9787d845",
   "metadata": {},
   "outputs": [
    {
     "data": {
      "text/plain": [
       "dict_values([30, 100, 20, 50, 40])"
      ]
     },
     "execution_count": 49,
     "metadata": {},
     "output_type": "execute_result"
    }
   ],
   "source": [
    "Values_1 = Dic_1.values()\n",
    "Values_1"
   ]
  },
  {
   "cell_type": "code",
   "execution_count": 50,
   "id": "042c9fdf",
   "metadata": {},
   "outputs": [
    {
     "data": {
      "text/plain": [
       "{'samosa': 30,\n",
       " 'Pakora': 100,\n",
       " 'Raita': 20,\n",
       " 'Salad': 50,\n",
       " 'Chiken Roll': 40,\n",
       " 'Tikki': 10}"
      ]
     },
     "execution_count": 50,
     "metadata": {},
     "output_type": "execute_result"
    }
   ],
   "source": [
    "#adding new element (Mutatable)\n",
    "Dic_1[\"Tikki\"] = 10\n",
    "Dic_1"
   ]
  },
  {
   "cell_type": "code",
   "execution_count": 53,
   "id": "f05c1b33",
   "metadata": {},
   "outputs": [
    {
     "data": {
      "text/plain": [
       "{'samosa': 30,\n",
       " 'Pakora': 100,\n",
       " 'Raita': 20,\n",
       " 'Salad': 50,\n",
       " 'Chiken Roll': 40,\n",
       " 'Tikki': 15}"
      ]
     },
     "execution_count": 53,
     "metadata": {},
     "output_type": "execute_result"
    }
   ],
   "source": [
    "#update the values \n",
    "Dic_1['Tikki'] = 15\n",
    "Dic_1"
   ]
  },
  {
   "cell_type": "code",
   "execution_count": 56,
   "id": "a13be61f",
   "metadata": {},
   "outputs": [
    {
     "data": {
      "text/plain": [
       "{'Dates': 50, 'choclates': 200, 'Saweeya': 1000}"
      ]
     },
     "execution_count": 56,
     "metadata": {},
     "output_type": "execute_result"
    }
   ],
   "source": [
    "Dic_2 = {\"Dates\": 50, \"choclates\": 200, \"Saweeya\": 1000}\n",
    "Dic_2"
   ]
  },
  {
   "cell_type": "code",
   "execution_count": 58,
   "id": "e97b21c2",
   "metadata": {},
   "outputs": [],
   "source": [
    "#Concacinate Disctionaries\n",
    "Dic_1.update(Dic_2)"
   ]
  },
  {
   "cell_type": "code",
   "execution_count": 59,
   "id": "7da33565",
   "metadata": {},
   "outputs": [
    {
     "data": {
      "text/plain": [
       "{'samosa': 30,\n",
       " 'Pakora': 100,\n",
       " 'Raita': 20,\n",
       " 'Salad': 50,\n",
       " 'Chiken Roll': 40,\n",
       " 'Tikki': 15,\n",
       " 'Dates': 50,\n",
       " 'choclates': 200,\n",
       " 'Saweeya': 1000}"
      ]
     },
     "execution_count": 59,
     "metadata": {},
     "output_type": "execute_result"
    }
   ],
   "source": [
    "Dic_1"
   ]
  },
  {
   "cell_type": "markdown",
   "id": "e1e0a536",
   "metadata": {},
   "source": [
    "### -Sets\n",
    "- Unordered and unindexed \n",
    "- Curly braces {}\n",
    "- No dublicates allowed"
   ]
  },
  {
   "cell_type": "code",
   "execution_count": 60,
   "id": "abac5317",
   "metadata": {},
   "outputs": [
    {
     "data": {
      "text/plain": [
       "{1, 2.3, 5.5, 'Ammar', 'Huzaifa', 'Usman'}"
      ]
     },
     "execution_count": 60,
     "metadata": {},
     "output_type": "execute_result"
    }
   ],
   "source": [
    "s_1 = {1, 2.3, 5.5, \"Usman\", \"Huzaifa\", \"Ammar\", True}\n",
    "s_1"
   ]
  },
  {
   "cell_type": "code",
   "execution_count": 63,
   "id": "4c7b8d90",
   "metadata": {},
   "outputs": [
    {
     "data": {
      "text/plain": [
       "{1, '1', 2.3, 5.5, 'A', 'Ammar', 'Ammar1', 'Huzaifa', 'Usman', 'a', 'm', 'r'}"
      ]
     },
     "execution_count": 63,
     "metadata": {},
     "output_type": "execute_result"
    }
   ],
   "source": [
    "s_1.add(\"Ammar1\")\n",
    "s_1"
   ]
  },
  {
   "cell_type": "code",
   "execution_count": null,
   "id": "e0e2499b",
   "metadata": {},
   "outputs": [],
   "source": [
    "s_1.remove(\"Ammar1\")"
   ]
  }
 ],
 "metadata": {
  "kernelspec": {
   "display_name": "Python 3 (ipykernel)",
   "language": "python",
   "name": "python3"
  },
  "language_info": {
   "codemirror_mode": {
    "name": "ipython",
    "version": 3
   },
   "file_extension": ".py",
   "mimetype": "text/x-python",
   "name": "python",
   "nbconvert_exporter": "python",
   "pygments_lexer": "ipython3",
   "version": "3.9.12"
  }
 },
 "nbformat": 4,
 "nbformat_minor": 5
}

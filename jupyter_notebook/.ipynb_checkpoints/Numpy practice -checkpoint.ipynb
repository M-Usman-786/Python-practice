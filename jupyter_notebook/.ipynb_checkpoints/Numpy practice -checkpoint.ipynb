{
 "cells": [
  {
   "cell_type": "code",
   "execution_count": 11,
   "id": "9efecf79",
   "metadata": {},
   "outputs": [],
   "source": [
    "#first import numpy library\n",
    "import numpy as np"
   ]
  },
  {
   "cell_type": "markdown",
   "id": "5f772905",
   "metadata": {},
   "source": [
    "### - Creating an array with numpy"
   ]
  },
  {
   "cell_type": "code",
   "execution_count": 12,
   "id": "d02b94f0",
   "metadata": {},
   "outputs": [
    {
     "data": {
      "text/plain": [
       "array(['Samosa', 'Pakora', 'Salad'], dtype='<U6')"
      ]
     },
     "execution_count": 12,
     "metadata": {},
     "output_type": "execute_result"
    }
   ],
   "source": [
    "# 1-D Array\n",
    "food_1 = np.array([\"Samosa\", \"Pakora\", \"Salad\"])\n",
    "food_1"
   ]
  },
  {
   "cell_type": "code",
   "execution_count": 13,
   "id": "c4b78f84",
   "metadata": {},
   "outputs": [
    {
     "data": {
      "text/plain": [
       "array([ 5,  2, 10])"
      ]
     },
     "execution_count": 13,
     "metadata": {},
     "output_type": "execute_result"
    }
   ],
   "source": [
    "price_1 = np.array([5, 2, 10])\n",
    "price_1"
   ]
  },
  {
   "cell_type": "code",
   "execution_count": 14,
   "id": "177b3e06",
   "metadata": {},
   "outputs": [
    {
     "data": {
      "text/plain": [
       "5.666666666666667"
      ]
     },
     "execution_count": 14,
     "metadata": {},
     "output_type": "execute_result"
    }
   ],
   "source": [
    "price_1.mean()"
   ]
  },
  {
   "cell_type": "markdown",
   "id": "693a7a94",
   "metadata": {},
   "source": [
    "### - Array functions "
   ]
  },
  {
   "cell_type": "code",
   "execution_count": 15,
   "id": "3f06059b",
   "metadata": {},
   "outputs": [
    {
     "data": {
      "text/plain": [
       "array([ 14. ,  12. ,  74. ,   0.3,  12.9,  13. , 100. ,  73. ,   1.9,\n",
       "        45. ])"
      ]
     },
     "execution_count": 15,
     "metadata": {},
     "output_type": "execute_result"
    }
   ],
   "source": [
    "arr_1 = np.array([14, 12, 74, 0.3, 12.9, 13, 100, 73, 1.9, 45])\n",
    "arr_1"
   ]
  },
  {
   "cell_type": "code",
   "execution_count": 16,
   "id": "e6691973",
   "metadata": {},
   "outputs": [
    {
     "data": {
      "text/plain": [
       "array([  0.3,   1.9,  12. ,  12.9,  13. ,  14. ,  45. ,  73. ,  74. ,\n",
       "       100. ])"
      ]
     },
     "execution_count": 16,
     "metadata": {},
     "output_type": "execute_result"
    }
   ],
   "source": [
    "arr_1.sort()\n",
    "arr_1"
   ]
  },
  {
   "cell_type": "code",
   "execution_count": 17,
   "id": "2e03c1b4",
   "metadata": {},
   "outputs": [
    {
     "data": {
      "text/plain": [
       "array([12. , 12.5, 45. , 23. , 10. , 10.3,  2.4, 73. ,  1.9, 45. ])"
      ]
     },
     "execution_count": 17,
     "metadata": {},
     "output_type": "execute_result"
    }
   ],
   "source": [
    "arr_2 = np.array([12, 12.5, 45, 23, 10, 10.3, 2.4,  73, 1.9, 45])\n",
    "arr_2"
   ]
  },
  {
   "cell_type": "code",
   "execution_count": 18,
   "id": "e254891f",
   "metadata": {},
   "outputs": [
    {
     "ename": "TypeError",
     "evalue": "only integer scalar arrays can be converted to a scalar index",
     "output_type": "error",
     "traceback": [
      "\u001b[1;31m---------------------------------------------------------------------------\u001b[0m",
      "\u001b[1;31mTypeError\u001b[0m                                 Traceback (most recent call last)",
      "\u001b[1;32md:\\Python practice\\jupyter_notebook\\.ipynb_checkpoints\\Numpy practice -checkpoint.ipynb Cell 10\u001b[0m in \u001b[0;36m<cell line: 1>\u001b[1;34m()\u001b[0m\n\u001b[1;32m----> <a href='vscode-notebook-cell:/d%3A/Python%20practice/jupyter_notebook/.ipynb_checkpoints/Numpy%20practice%20-checkpoint.ipynb#ch0000009?line=0'>1</a>\u001b[0m concat_1 \u001b[39m=\u001b[39mnp\u001b[39m.\u001b[39;49mconcatenate(arr_1, arr_2)\n\u001b[0;32m      <a href='vscode-notebook-cell:/d%3A/Python%20practice/jupyter_notebook/.ipynb_checkpoints/Numpy%20practice%20-checkpoint.ipynb#ch0000009?line=1'>2</a>\u001b[0m concat_1\n",
      "File \u001b[1;32m<__array_function__ internals>:180\u001b[0m, in \u001b[0;36mconcatenate\u001b[1;34m(*args, **kwargs)\u001b[0m\n",
      "\u001b[1;31mTypeError\u001b[0m: only integer scalar arrays can be converted to a scalar index"
     ]
    }
   ],
   "source": [
    "concat_1 =np.concatenate(arr_1, arr_2)\n",
    "concat_1"
   ]
  }
 ],
 "metadata": {
  "kernelspec": {
   "display_name": "Python 3.10.5 64-bit",
   "language": "python",
   "name": "python3"
  },
  "language_info": {
   "codemirror_mode": {
    "name": "ipython",
    "version": 3
   },
   "file_extension": ".py",
   "mimetype": "text/x-python",
   "name": "python",
   "nbconvert_exporter": "python",
   "pygments_lexer": "ipython3",
   "version": "3.10.5"
  },
  "vscode": {
   "interpreter": {
    "hash": "5a7bb41fa1b4e552359b5eae2b50a7673f62f8a8c29b81b7105b3ed892ed6f90"
   }
  }
 },
 "nbformat": 4,
 "nbformat_minor": 5
}

{
 "cells": [
  {
   "cell_type": "code",
   "execution_count": 1,
   "id": "9efecf79",
   "metadata": {},
   "outputs": [],
   "source": [
    "#first import numpy library\n",
    "import numpy as np"
   ]
  },
  {
   "cell_type": "markdown",
   "id": "5f772905",
   "metadata": {},
   "source": [
    "### - Creating an array with numpy"
   ]
  },
  {
   "cell_type": "code",
   "execution_count": 10,
   "id": "d02b94f0",
   "metadata": {},
   "outputs": [
    {
     "data": {
      "text/plain": [
       "array(['Samosa', 'Pakora', 'Salad'], dtype='<U6')"
      ]
     },
     "execution_count": 10,
     "metadata": {},
     "output_type": "execute_result"
    }
   ],
   "source": [
    "# 1-D Array\n",
    "food_1 = np.array([\"Samosa\", \"Pakora\", \"Salad\"])\n",
    "food_1"
   ]
  },
  {
   "cell_type": "code",
   "execution_count": 8,
   "id": "c4b78f84",
   "metadata": {},
   "outputs": [
    {
     "data": {
      "text/plain": [
       "array([ 5,  2, 10])"
      ]
     },
     "execution_count": 8,
     "metadata": {},
     "output_type": "execute_result"
    }
   ],
   "source": [
    "price_1 = np.array([5, 2, 10])\n",
    "price_1"
   ]
  },
  {
   "cell_type": "code",
   "execution_count": 9,
   "id": "177b3e06",
   "metadata": {},
   "outputs": [
    {
     "data": {
      "text/plain": [
       "5.666666666666667"
      ]
     },
     "execution_count": 9,
     "metadata": {},
     "output_type": "execute_result"
    }
   ],
   "source": [
    "price_1.mean()"
   ]
  },
  {
   "cell_type": "markdown",
   "id": "693a7a94",
   "metadata": {},
   "source": [
    "### - Array functions "
   ]
  },
  {
   "cell_type": "code",
   "execution_count": 12,
   "id": "3f06059b",
   "metadata": {},
   "outputs": [
    {
     "data": {
      "text/plain": [
       "array([ 14. ,  12. ,  74. ,   0.3,  12.9,  13. , 100. ,  73. ,   1.9,\n",
       "        45. ])"
      ]
     },
     "execution_count": 12,
     "metadata": {},
     "output_type": "execute_result"
    }
   ],
   "source": [
    "arr_1 = np.array([14, 12, 74, 0.3, 12.9, 13, 100, 73, 1.9, 45])\n",
    "arr_1"
   ]
  },
  {
   "cell_type": "code",
   "execution_count": 17,
   "id": "e6691973",
   "metadata": {},
   "outputs": [
    {
     "data": {
      "text/plain": [
       "array([  0.3,   1.9,  12. ,  12.9,  13. ,  14. ,  45. ,  73. ,  74. ,\n",
       "       100. ])"
      ]
     },
     "execution_count": 17,
     "metadata": {},
     "output_type": "execute_result"
    }
   ],
   "source": [
    "arr_1.sort()\n",
    "arr_1"
   ]
  },
  {
   "cell_type": "code",
   "execution_count": 18,
   "id": "2e03c1b4",
   "metadata": {},
   "outputs": [
    {
     "data": {
      "text/plain": [
       "array([12. , 12.5, 45. , 23. , 10. , 10.3,  2.4])"
      ]
     },
     "execution_count": 18,
     "metadata": {},
     "output_type": "execute_result"
    }
   ],
   "source": [
    "arr_2 = np.array([12, 12.5, 45, 23, 10, 10.3, 2.4])\n",
    "arr_2"
   ]
  },
  {
   "cell_type": "code",
   "execution_count": 19,
   "id": "e254891f",
   "metadata": {},
   "outputs": [
    {
     "ename": "ValueError",
     "evalue": "operands could not be broadcast together with shapes (10,) (7,) ",
     "output_type": "error",
     "traceback": [
      "\u001b[1;31m---------------------------------------------------------------------------\u001b[0m",
      "\u001b[1;31mValueError\u001b[0m                                Traceback (most recent call last)",
      "Input \u001b[1;32mIn [19]\u001b[0m, in \u001b[0;36m<cell line: 1>\u001b[1;34m()\u001b[0m\n\u001b[1;32m----> 1\u001b[0m concat_1 \u001b[38;5;241m=\u001b[39m \u001b[43marr_1\u001b[49m\u001b[43m \u001b[49m\u001b[38;5;241;43m+\u001b[39;49m\u001b[43m \u001b[49m\u001b[43marr_2\u001b[49m\n\u001b[0;32m      2\u001b[0m concat_1\n",
      "\u001b[1;31mValueError\u001b[0m: operands could not be broadcast together with shapes (10,) (7,) "
     ]
    }
   ],
   "source": [
    "concat_1 =np.concatenate(arr_1 + arr_2)\n",
    "concat_1"
   ]
  }
 ],
 "metadata": {
  "kernelspec": {
   "display_name": "Python 3 (ipykernel)",
   "language": "python",
   "name": "python3"
  },
  "language_info": {
   "codemirror_mode": {
    "name": "ipython",
    "version": 3
   },
   "file_extension": ".py",
   "mimetype": "text/x-python",
   "name": "python",
   "nbconvert_exporter": "python",
   "pygments_lexer": "ipython3",
   "version": "3.9.12"
  }
 },
 "nbformat": 4,
 "nbformat_minor": 5
}
